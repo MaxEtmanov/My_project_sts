{
 "cells": [
  {
   "cell_type": "code",
   "execution_count": 6,
   "metadata": {},
   "outputs": [
    {
     "name": "stdout",
     "output_type": "stream",
     "text": [
      "Вы ввели число: 123\n",
      "Вы ввели не число\n",
      "Произошла ошибка: int() argument must be a string, a bytes-like object or a real number, not 'list'\n"
     ]
    }
   ],
   "source": [
    "def convert_to_int(num):\n",
    "    try:\n",
    "        num = int(num)\n",
    "        print(\"Вы ввели число:\", num)\n",
    "    except ValueError:\n",
    "        print(\"Вы ввели не число\")\n",
    "    except Exception as e:\n",
    "        print(\"Произошла ошибка:\", e)\n",
    "        \n",
    "test1 = convert_to_int(123)\n",
    "test2 = convert_to_int(\"abc\")\n",
    "test3 = convert_to_int([1,2,3])\n",
    "\n"
   ]
  }
 ],
 "metadata": {
  "kernelspec": {
   "display_name": "Python 3",
   "language": "python",
   "name": "python3"
  },
  "language_info": {
   "codemirror_mode": {
    "name": "ipython",
    "version": 3
   },
   "file_extension": ".py",
   "mimetype": "text/x-python",
   "name": "python",
   "nbconvert_exporter": "python",
   "pygments_lexer": "ipython3",
   "version": "3.12.4"
  }
 },
 "nbformat": 4,
 "nbformat_minor": 2
}
