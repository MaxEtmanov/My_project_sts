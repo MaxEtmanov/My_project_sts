{
 "cells": [
  {
   "cell_type": "code",
   "execution_count": 15,
   "metadata": {},
   "outputs": [
    {
     "name": "stdout",
     "output_type": "stream",
     "text": [
      "10\n"
     ]
    },
    {
     "ename": "NegativeNumberError",
     "evalue": "Число должно быть положитлеьным, -10 не подходит]",
     "output_type": "error",
     "traceback": [
      "\u001b[0;31m---------------------------------------------------------------------------\u001b[0m",
      "\u001b[0;31mNegativeNumberError\u001b[0m                       Traceback (most recent call last)",
      "Cell \u001b[0;32mIn[15], line 17\u001b[0m\n\u001b[1;32m     15\u001b[0m positive \u001b[38;5;241m=\u001b[39m check_positive_number(\u001b[38;5;241m10\u001b[39m)\n\u001b[1;32m     16\u001b[0m \u001b[38;5;28mprint\u001b[39m(positive)\n\u001b[0;32m---> 17\u001b[0m negative \u001b[38;5;241m=\u001b[39m \u001b[43mcheck_positive_number\u001b[49m\u001b[43m(\u001b[49m\u001b[38;5;241;43m-\u001b[39;49m\u001b[38;5;241;43m10\u001b[39;49m\u001b[43m)\u001b[49m\n\u001b[1;32m     18\u001b[0m \u001b[38;5;28mprint\u001b[39m(negative)\n",
      "Cell \u001b[0;32mIn[15], line 12\u001b[0m, in \u001b[0;36mcheck_positive_number\u001b[0;34m(num)\u001b[0m\n\u001b[1;32m     10\u001b[0m num \u001b[38;5;241m=\u001b[39m \u001b[38;5;28mint\u001b[39m(num)\n\u001b[1;32m     11\u001b[0m \u001b[38;5;28;01mif\u001b[39;00m num \u001b[38;5;241m<\u001b[39m \u001b[38;5;241m0\u001b[39m:\n\u001b[0;32m---> 12\u001b[0m     \u001b[38;5;28;01mraise\u001b[39;00m NegativeNumberError(num)\n\u001b[1;32m     13\u001b[0m \u001b[38;5;28;01mreturn\u001b[39;00m num\n",
      "\u001b[0;31mNegativeNumberError\u001b[0m: Число должно быть положитлеьным, -10 не подходит]"
     ]
    }
   ],
   "source": [
    "class NegativeNumberError(Exception):\n",
    "    def __init__(self, num, message= \"Число должно быть положитлеьным\"):\n",
    "        self.num = num\n",
    "        self.message = message\n",
    "        super().__init__(self.message)\n",
    "    def __str__(self):\n",
    "        return f\"{self.message}, {self.num} не подходит]\"\n",
    "    \n",
    "def check_positive_number(num):\n",
    "    num = int(num)\n",
    "    if num < 0:\n",
    "        raise NegativeNumberError(num)\n",
    "    return num\n",
    "\n",
    "positive = check_positive_number(10)\n",
    "print(positive)\n",
    "negative = check_positive_number(-10)\n",
    "print(negative)"
   ]
  }
 ],
 "metadata": {
  "kernelspec": {
   "display_name": "Python 3",
   "language": "python",
   "name": "python3"
  },
  "language_info": {
   "codemirror_mode": {
    "name": "ipython",
    "version": 3
   },
   "file_extension": ".py",
   "mimetype": "text/x-python",
   "name": "python",
   "nbconvert_exporter": "python",
   "pygments_lexer": "ipython3",
   "version": "3.12.4"
  }
 },
 "nbformat": 4,
 "nbformat_minor": 2
}
